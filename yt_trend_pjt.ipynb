{
 "cells": [
  {
   "cell_type": "markdown",
   "id": "8b4e14d9-c015-48c1-a499-d2e4259fbba9",
   "metadata": {},
   "source": [
    "# YouTube Trending Videos Analysis PJT"
   ]
  },
  {
   "cell_type": "markdown",
   "id": "7a7a1490-ce3a-466b-aa55-75e576e2baf9",
   "metadata": {},
   "source": [
    "## In this project, I will be tracking YouTube trending videos from the trend tab, and create a Tableau dashboard.\n",
    "\n",
    "# 1. Introduction\n",
    "## 1.1 Background\n",
    "YouTube has a trending tab that shows the trending videos in certain country. Since YouTube is a leading content platform for many countries, we can spot content trends just by observing trending videos in different countries. I wanted to create a Tableau dashboard that tracks trending videos for three countries (Korea, Japan, and USA), and use it to analyze content trends in 3 different countries. The scope of the project will be limited to the analysis of these 3 countries' weekly-updated trending videos. \n",
    "\n",
    "## 1.2 Objectives\n",
    "In this project, I will focus on learning the followings:\n",
    "\n",
    "- Get familiar with YouTube API, and use the API to gather YouTube trending videos\n",
    "- Use cron to update data weekly\n",
    "- Use Tableau to create a interactive dashboard\n",
    "- Analyze trending videos for each country to find out what type of contents are popular in different countries:\n",
    "    - What type of content is the hot trend right now in Korea, Japan, and USA?\n",
    "    - What content format is gaining more popularity?\n",
    "    - What content format is not as popular?\n",
    "    - What channels entered the trending chart the most?\n",
    "\n",
    "## 1.3 Project process\n",
    "1. Get the trending video data for each country using YouTube Data API v3, and update the data weekly via cron\n",
    "2. Preprocess data and engineer new features\n",
    "3. Create a Tableau dashboard\n",
    "4. Analyze data with Tableau dashboard\n",
    "\n",
    "## 1.4 Dataset\n",
    "### Data Source\n",
    "For this project, I obtained the dataset myself by utilizing YouTube Data API v3. \n",
    "\n",
    "### Data Limitation\n",
    "The data is a real-world dataset, suitable for research purposes. However, considering the API quota limit of 10,000 units per day, I am getting trending videos for just 3 countries (Korea, Japan, USA). Also, the data will be updated every week, since the trending chart doesn't change much on a daily basis. \n",
    "\n",
    "### Ethics of data source\n",
    "According to the Youtube API guide, the usage of YouTube API is free and open to anyone who created API KEY. As long as the API user abides by the YouTube API quota limit, there is no issue in using YouTube API to get data. Also, the data itself is public data that can be obtained from the YouTube channel, so there is no privacy issue involved with the data source.\n"
   ]
  },
  {
   "cell_type": "code",
   "execution_count": 4,
   "id": "f054d1c3-d3a4-4cd7-855e-b7f6eb588126",
   "metadata": {},
   "outputs": [],
   "source": [
    "# Import basic libraries\n",
    "import pandas as pd\n",
    "import numpy as np\n",
    "import matplotlib.pyplot as plt\n",
    "import seaborn as sns\n",
    "import datetime\n",
    "import os\n",
    "\n",
    "# Import API related libraries\n",
    "from googleapiclient.discovery import build\n",
    "from IPython.display import JSON\n",
    "\n",
    "# Import API KEY from the config file\n",
    "import sys\n",
    "sys.path.append('/Users/minguyeo/Documents/coding/pythonPJT/config')\n",
    "import yt_api_key as api\n",
    "\n",
    "# Enable Korean Font\n",
    "from matplotlib import font_manager, rc\n",
    "import platform\n",
    "\n",
    "if platform.system() == 'Windows':\n",
    "# For windows user\n",
    "    font_name = font_manager.FontProperties(fname=\"c:/Windows/Fonts/malgun.ttf\").get_name()\n",
    "    rc('font', family=font_name)\n",
    "else:    \n",
    "# For mac user\n",
    "    rc('font', family='AppleGothic')\n",
    "\n",
    "plt.rcParams['axes.unicode_minus'] = False\n",
    "\n",
    "# Import google sheet\n",
    "import pygsheets\n",
    "from dotenv import load_dotenv\n",
    "\n",
    "# Load environment variables from .env file\n",
    "load_dotenv()\n",
    "\n",
    "# Access the environment variables\n",
    "google_sheets_creds = os.getenv('GOOGLE_SHEETS_CREDS')\n",
    "\n",
    "# Use the environment variable\n",
    "if google_sheets_creds:\n",
    "    gc = pygsheets.authorize(service_account_file=google_sheets_creds)\n",
    "else:\n",
    "    print(\"Environment variable GOOGLE_SHEETS_CREDS is not set.\")\n",
    "\n",
    "# Get google sheet data\n",
    "spreadsheet_url1 = \"https://docs.google.com/spreadsheets/d/1zxmjY48uOkyq-e6o-Fxc9FE_G98jZFM8wdHJ3lxqsoI/edit#gid=0\"\n",
    "sid1 = spreadsheet_url1.split(\"/d/\")[1].split(\"/edit\")[0]\n",
    "sh1 = gc.open_by_key(sid1)\n",
    "\n",
    "# Weekly YouTube Trend DB\n",
    "wks_trend_data = sh1.worksheet_by_title('yt_trend_weekly')\n",
    "\n",
    "# Sheet data to dataframe\n",
    "trend_df = wks_trend_data.get_as_df(has_header=True , index_column=None , start='A1', end='AE1000000' , numerize=True , empty_value=np.nan)\n"
   ]
  },
  {
   "cell_type": "markdown",
   "id": "2a355788-2a13-4bf1-bd79-6be87966588f",
   "metadata": {},
   "source": [
    "# 2. Data collection with YouTube Data API v3"
   ]
  },
  {
   "cell_type": "markdown",
   "id": "f611100c-aed0-4df6-9ce2-2dae10cecd97",
   "metadata": {},
   "source": [
    "First, I created an API key from the google cloud platform(GCP) console, and enabled YouTube Data API v3 for my account. I saved the API_KEY in the separate config directory, so I can import the API_KEY without showing the key in the notebook. Then, I checked the YouTube Data API documentation to find out how to get trending videos for each region (Korea, Japan, USA). Then created a `get_trending_video` function to collect video statistics of trending videos for each country via the API. "
   ]
  },
  {
   "cell_type": "code",
   "execution_count": 2,
   "id": "21978f6b-5bf1-494a-9ebd-6e6d56c3d181",
   "metadata": {},
   "outputs": [],
   "source": [
    "# Build API service\n",
    "youtube = build('youtube', 'v3', developerKey=api.API_KEY)\n",
    "\n",
    "regions = ['KR', 'JP', 'US']"
   ]
  },
  {
   "cell_type": "markdown",
   "id": "06896371-f165-48af-940c-4f54eafe4796",
   "metadata": {},
   "source": [
    "The region code for three countries:\n",
    "- Korea = KR\n",
    "- Japan = JP\n",
    "- United States = US"
   ]
  },
  {
   "cell_type": "code",
   "execution_count": 3,
   "id": "13600c8a-9816-4140-9a0e-64804cb58fda",
   "metadata": {
    "collapsed": true,
    "jupyter": {
     "outputs_hidden": true
    },
    "tags": []
   },
   "outputs": [
    {
     "name": "stdout",
     "output_type": "stream",
     "text": [
      "[{'kind': 'youtube#i18nRegion', 'etag': 'RmvQrICcSKx5BZkuwuIam0hkr9o', 'id': 'AE', 'snippet': {'gl': 'AE', 'name': 'United Arab Emirates'}}, {'kind': 'youtube#i18nRegion', 'etag': 'lYa87JjqaXmfqWaf6vuQD3YSNo4', 'id': 'BH', 'snippet': {'gl': 'BH', 'name': 'Bahrain'}}, {'kind': 'youtube#i18nRegion', 'etag': 'sNy_f3n1a8hzh4cy6lk7Blq6MgU', 'id': 'DZ', 'snippet': {'gl': 'DZ', 'name': 'Algeria'}}, {'kind': 'youtube#i18nRegion', 'etag': 'epyyUiiXSMjhLjkCvWGK-3zDKpM', 'id': 'EG', 'snippet': {'gl': 'EG', 'name': 'Egypt'}}, {'kind': 'youtube#i18nRegion', 'etag': 'foRr-koDaxI_23FCQgzB6S9YdQw', 'id': 'IQ', 'snippet': {'gl': 'IQ', 'name': 'Iraq'}}, {'kind': 'youtube#i18nRegion', 'etag': 'm1XLnpk2rbqMpwSZoka9-5P8gLc', 'id': 'JO', 'snippet': {'gl': 'JO', 'name': 'Jordan'}}, {'kind': 'youtube#i18nRegion', 'etag': 'zC0vjycew30h6Q1SVGY-wPYNOrg', 'id': 'KW', 'snippet': {'gl': 'KW', 'name': 'Kuwait'}}, {'kind': 'youtube#i18nRegion', 'etag': 'DJkocR6JpoY3ReMH479TGJMk-yk', 'id': 'LB', 'snippet': {'gl': 'LB', 'name': 'Lebanon'}}, {'kind': 'youtube#i18nRegion', 'etag': 'N3hHa9zCmB14XYdDcEnm4BHFubo', 'id': 'LY', 'snippet': {'gl': 'LY', 'name': 'Libya'}}, {'kind': 'youtube#i18nRegion', 'etag': 'UdULvJ_Scaxjyg3LsVo1Sz1AAac', 'id': 'MA', 'snippet': {'gl': 'MA', 'name': 'Morocco'}}, {'kind': 'youtube#i18nRegion', 'etag': 'mnCTKgIZZXCoJ_q8UZyBkEM4OyE', 'id': 'OM', 'snippet': {'gl': 'OM', 'name': 'Oman'}}, {'kind': 'youtube#i18nRegion', 'etag': 'KlyfhBOCPgb37SdHG7jJDhK_WFk', 'id': 'QA', 'snippet': {'gl': 'QA', 'name': 'Qatar'}}, {'kind': 'youtube#i18nRegion', 'etag': '-r4m0QrM6e_Q4MxePqSHhH32xyU', 'id': 'SA', 'snippet': {'gl': 'SA', 'name': 'Saudi Arabia'}}, {'kind': 'youtube#i18nRegion', 'etag': 'mMOrbS2kwInKIyfzRmIWehWL-rc', 'id': 'TN', 'snippet': {'gl': 'TN', 'name': 'Tunisia'}}, {'kind': 'youtube#i18nRegion', 'etag': 'Thj1Imz9wlMsj3CWoTIzrJe8I7I', 'id': 'YE', 'snippet': {'gl': 'YE', 'name': 'Yemen'}}, {'kind': 'youtube#i18nRegion', 'etag': 'Tgmx13JCzXSo79M_mJhhf7n4n3w', 'id': 'AZ', 'snippet': {'gl': 'AZ', 'name': 'Azerbaijan'}}, {'kind': 'youtube#i18nRegion', 'etag': 'LwqyTp3nnjk81yEkyDrhiC956V8', 'id': 'BY', 'snippet': {'gl': 'BY', 'name': 'Belarus'}}, {'kind': 'youtube#i18nRegion', 'etag': 'pi4_50Lncnobd3EDtryicSwjOMY', 'id': 'BG', 'snippet': {'gl': 'BG', 'name': 'Bulgaria'}}, {'kind': 'youtube#i18nRegion', 'etag': 'Elc9Gum3arxR9i_dcGe2MBfsH94', 'id': 'BD', 'snippet': {'gl': 'BD', 'name': 'Bangladesh'}}, {'kind': 'youtube#i18nRegion', 'etag': '96TKUS0iMBO8c56acjkLxJNRehQ', 'id': 'BA', 'snippet': {'gl': 'BA', 'name': 'Bosnia and Herzegovina'}}, {'kind': 'youtube#i18nRegion', 'etag': 'Jpvv6dmgJyP3n4esahjaB-PN4bI', 'id': 'CZ', 'snippet': {'gl': 'CZ', 'name': 'Czechia'}}, {'kind': 'youtube#i18nRegion', 'etag': 'BsjIaoZSa5xS4SF331k4PNHcT_s', 'id': 'DK', 'snippet': {'gl': 'DK', 'name': 'Denmark'}}, {'kind': 'youtube#i18nRegion', 'etag': 'ySQOwpG2E4hUDVMpFf-F0ctzXuI', 'id': 'AT', 'snippet': {'gl': 'AT', 'name': 'Austria'}}, {'kind': 'youtube#i18nRegion', 'etag': '3s0qWLGJ4snNPAuiJH7FH6KDzY0', 'id': 'CH', 'snippet': {'gl': 'CH', 'name': 'Switzerland'}}, {'kind': 'youtube#i18nRegion', 'etag': 'pMyVeT0AIiXm59V6YvAXoPI6GS8', 'id': 'DE', 'snippet': {'gl': 'DE', 'name': 'Germany'}}, {'kind': 'youtube#i18nRegion', 'etag': 'HDS1oBYBFvzu8gzDMY2FObiDLE0', 'id': 'GR', 'snippet': {'gl': 'GR', 'name': 'Greece'}}, {'kind': 'youtube#i18nRegion', 'etag': 'C_5WUIas2wbmJxj6DYD2p0W32tM', 'id': 'AU', 'snippet': {'gl': 'AU', 'name': 'Australia'}}, {'kind': 'youtube#i18nRegion', 'etag': 'zGpdjPQLBJzh3Jlgwlp-xILP9K8', 'id': 'BE', 'snippet': {'gl': 'BE', 'name': 'Belgium'}}, {'kind': 'youtube#i18nRegion', 'etag': 'ykbeYnOX3J4Sor4i9zoDeJNOrfg', 'id': 'CA', 'snippet': {'gl': 'CA', 'name': 'Canada'}}, {'kind': 'youtube#i18nRegion', 'etag': 'bsGyXb81zbBtQuCOdjC4hCGO9FA', 'id': 'GB', 'snippet': {'gl': 'GB', 'name': 'United Kingdom'}}, {'kind': 'youtube#i18nRegion', 'etag': 'WsXHJvE2UF13Tsr7FNCp3JGoEjo', 'id': 'GH', 'snippet': {'gl': 'GH', 'name': 'Ghana'}}, {'kind': 'youtube#i18nRegion', 'etag': 'l6phcCHwXhd6B40synlTH-Liwgg', 'id': 'IE', 'snippet': {'gl': 'IE', 'name': 'Ireland'}}, {'kind': 'youtube#i18nRegion', 'etag': 'H-rqfcC8wk6QOY9q2lAtEa8Yac4', 'id': 'IL', 'snippet': {'gl': 'IL', 'name': 'Israel'}}, {'kind': 'youtube#i18nRegion', 'etag': 'g_wwT9RH6RcOVtu3e3a58Ds3ThE', 'id': 'IN', 'snippet': {'gl': 'IN', 'name': 'India'}}, {'kind': 'youtube#i18nRegion', 'etag': 'wG7nLDB9rI6mgnfQZPINMmxf6r4', 'id': 'JM', 'snippet': {'gl': 'JM', 'name': 'Jamaica'}}, {'kind': 'youtube#i18nRegion', 'etag': 'iD1R4mNYzOi9wKrp-WECCvew4cg', 'id': 'KE', 'snippet': {'gl': 'KE', 'name': 'Kenya'}}, {'kind': 'youtube#i18nRegion', 'etag': 'C8VXBSWK81MKYAxX5HsBa-Lu6Ps', 'id': 'MT', 'snippet': {'gl': 'MT', 'name': 'Malta'}}, {'kind': 'youtube#i18nRegion', 'etag': 'GqXrz2Td2q056qMCXcQdsW_XFw0', 'id': 'NG', 'snippet': {'gl': 'NG', 'name': 'Nigeria'}}, {'kind': 'youtube#i18nRegion', 'etag': 'auzxGZbOKP_-UZGz3gRBGuR688A', 'id': 'NZ', 'snippet': {'gl': 'NZ', 'name': 'New Zealand'}}, {'kind': 'youtube#i18nRegion', 'etag': 'dWdLxC35_waqtR_tn35GxaxyO_o', 'id': 'SG', 'snippet': {'gl': 'SG', 'name': 'Singapore'}}, {'kind': 'youtube#i18nRegion', 'etag': 'xKwRyI2kwtzPmL4jrh3Nnl_9C9g', 'id': 'UG', 'snippet': {'gl': 'UG', 'name': 'Uganda'}}, {'kind': 'youtube#i18nRegion', 'etag': 'wvpxxbAC8BGLGWjuIRoO8ekkWhY', 'id': 'US', 'snippet': {'gl': 'US', 'name': 'United States'}}, {'kind': 'youtube#i18nRegion', 'etag': 'PGdgxpMn5IPI4vC4h-xC9u3_Iyc', 'id': 'ZA', 'snippet': {'gl': 'ZA', 'name': 'South Africa'}}, {'kind': 'youtube#i18nRegion', 'etag': 'S1054pHpeYVZqxGkdAPlq-xzxk4', 'id': 'ZW', 'snippet': {'gl': 'ZW', 'name': 'Zimbabwe'}}, {'kind': 'youtube#i18nRegion', 'etag': 'IDkKk2Il9b2sL-CVC98fwRTwzSg', 'id': 'AR', 'snippet': {'gl': 'AR', 'name': 'Argentina'}}, {'kind': 'youtube#i18nRegion', 'etag': '88veRAkzk_B85tJqg_qf_R2mlWw', 'id': 'BO', 'snippet': {'gl': 'BO', 'name': 'Bolivia'}}, {'kind': 'youtube#i18nRegion', 'etag': 'CmYxtD-zpGgUCdK7kowiKKCECas', 'id': 'CL', 'snippet': {'gl': 'CL', 'name': 'Chile'}}, {'kind': 'youtube#i18nRegion', 'etag': '1ywEtOunP3Pl99ly67TSczqr0gQ', 'id': 'CO', 'snippet': {'gl': 'CO', 'name': 'Colombia'}}, {'kind': 'youtube#i18nRegion', 'etag': 'G-QQgQOLF2WjzMTTElY79Zw24Sw', 'id': 'CR', 'snippet': {'gl': 'CR', 'name': 'Costa Rica'}}, {'kind': 'youtube#i18nRegion', 'etag': 'ymmTPf-7JLmwwhQnj1UuTBq9If8', 'id': 'DO', 'snippet': {'gl': 'DO', 'name': 'Dominican Republic'}}, {'kind': 'youtube#i18nRegion', 'etag': 'p8IoSI8jVx6zLboC7dJGh6WNt8Y', 'id': 'EC', 'snippet': {'gl': 'EC', 'name': 'Ecuador'}}, {'kind': 'youtube#i18nRegion', 'etag': 'KwBJcUH7ewt_pUzPmSqRZslsh-k', 'id': 'ES', 'snippet': {'gl': 'ES', 'name': 'Spain'}}, {'kind': 'youtube#i18nRegion', 'etag': 'fYj5-Hi0t8H_3McZIev4Hwh9K8E', 'id': 'GT', 'snippet': {'gl': 'GT', 'name': 'Guatemala'}}, {'kind': 'youtube#i18nRegion', 'etag': '6vsC8IKmsIpQth5XZOO5srJBUoY', 'id': 'HN', 'snippet': {'gl': 'HN', 'name': 'Honduras'}}, {'kind': 'youtube#i18nRegion', 'etag': 'EN_cPD__1lC8pNL7V1U55V5CR5w', 'id': 'MX', 'snippet': {'gl': 'MX', 'name': 'Mexico'}}, {'kind': 'youtube#i18nRegion', 'etag': '77BGV8gkGGn47I4emWhj4g7fu4Q', 'id': 'NI', 'snippet': {'gl': 'NI', 'name': 'Nicaragua'}}, {'kind': 'youtube#i18nRegion', 'etag': '_Uc0wkn5tqBDBSB_NvyM44Vb9MA', 'id': 'PA', 'snippet': {'gl': 'PA', 'name': 'Panama'}}, {'kind': 'youtube#i18nRegion', 'etag': 'lg4v5jBErJxIrfEay9W_zRtUpxg', 'id': 'PE', 'snippet': {'gl': 'PE', 'name': 'Peru'}}, {'kind': 'youtube#i18nRegion', 'etag': 'zvoTWA93mHLUGjp3kxHXrsrY5io', 'id': 'PR', 'snippet': {'gl': 'PR', 'name': 'Puerto Rico'}}, {'kind': 'youtube#i18nRegion', 'etag': 'POT4Qd7WxQjHxQ0zvsQJ4U3ccEs', 'id': 'PY', 'snippet': {'gl': 'PY', 'name': 'Paraguay'}}, {'kind': 'youtube#i18nRegion', 'etag': 'wr6m6dJKecyovss8jfqqyvu0DgA', 'id': 'SV', 'snippet': {'gl': 'SV', 'name': 'El Salvador'}}, {'kind': 'youtube#i18nRegion', 'etag': 'gKhOCsjMVIeMw8YZZN7bPrSniwQ', 'id': 'UY', 'snippet': {'gl': 'UY', 'name': 'Uruguay'}}, {'kind': 'youtube#i18nRegion', 'etag': 'TKKBDWj6O1eMyTn0IXfFcEWDA_Y', 'id': 'VE', 'snippet': {'gl': 'VE', 'name': 'Venezuela'}}, {'kind': 'youtube#i18nRegion', 'etag': 'PVKNaoqu4BmQ1GwM2bFGGDJDpak', 'id': 'EE', 'snippet': {'gl': 'EE', 'name': 'Estonia'}}, {'kind': 'youtube#i18nRegion', 'etag': 'YQh_O_pVR-mKB9_5KuyFXRflczw', 'id': 'FI', 'snippet': {'gl': 'FI', 'name': 'Finland'}}, {'kind': 'youtube#i18nRegion', 'etag': 'iau8MOmkxSd_PPRhegcXiJdwhE0', 'id': 'PH', 'snippet': {'gl': 'PH', 'name': 'Philippines'}}, {'kind': 'youtube#i18nRegion', 'etag': 'dLbfzUE-WPUSMbW25V9JNw1n5QQ', 'id': 'FR', 'snippet': {'gl': 'FR', 'name': 'France'}}, {'kind': 'youtube#i18nRegion', 'etag': 'T-07rcx5Aa_fXkv-Ytu9wyzWIgU', 'id': 'SN', 'snippet': {'gl': 'SN', 'name': 'Senegal'}}, {'kind': 'youtube#i18nRegion', 'etag': 'HMrzY1zY8KmBja0nIG3a6-MfhRU', 'id': 'HR', 'snippet': {'gl': 'HR', 'name': 'Croatia'}}, {'kind': 'youtube#i18nRegion', 'etag': 'Y24GwellFr8Dz0RFrwwJouLwcW8', 'id': 'HU', 'snippet': {'gl': 'HU', 'name': 'Hungary'}}, {'kind': 'youtube#i18nRegion', 'etag': 'aNsi2uxPyyadoKApVSx8QPi-y_Q', 'id': 'ID', 'snippet': {'gl': 'ID', 'name': 'Indonesia'}}, {'kind': 'youtube#i18nRegion', 'etag': 'L0Gg0eQzfrPSaf_jYKwbLfLiTcA', 'id': 'IS', 'snippet': {'gl': 'IS', 'name': 'Iceland'}}, {'kind': 'youtube#i18nRegion', 'etag': 'hNfuHToLzaKEJC-IUhW36y-Jzns', 'id': 'IT', 'snippet': {'gl': 'IT', 'name': 'Italy'}}, {'kind': 'youtube#i18nRegion', 'etag': 'stsaGcJEohuXbvZWHzkOqTnRoxo', 'id': 'JP', 'snippet': {'gl': 'JP', 'name': 'Japan'}}, {'kind': 'youtube#i18nRegion', 'etag': 'FixToIPmKktcVQvhmbshdducneg', 'id': 'GE', 'snippet': {'gl': 'GE', 'name': 'Georgia'}}, {'kind': 'youtube#i18nRegion', 'etag': 'IBWcVY7b6W9IbGoy-64dOsd_hSU', 'id': 'KZ', 'snippet': {'gl': 'KZ', 'name': 'Kazakhstan'}}, {'kind': 'youtube#i18nRegion', 'etag': '2HKOZvMazAKE_ZWDTLKzclcfZJk', 'id': 'KR', 'snippet': {'gl': 'KR', 'name': 'South Korea'}}, {'kind': 'youtube#i18nRegion', 'etag': 'USmAk6dENOpWjBbvIrsdSLdf2iE', 'id': 'LU', 'snippet': {'gl': 'LU', 'name': 'Luxembourg'}}, {'kind': 'youtube#i18nRegion', 'etag': '30gX9QeZsq3xszwyP_6dqhz5i8s', 'id': 'LA', 'snippet': {'gl': 'LA', 'name': 'Laos'}}, {'kind': 'youtube#i18nRegion', 'etag': 'R6y-CJAwPpcNOVdMsz69p6RqYt4', 'id': 'LT', 'snippet': {'gl': 'LT', 'name': 'Lithuania'}}, {'kind': 'youtube#i18nRegion', 'etag': 'ifY55UGr7_EZ_AmUrgAEHbEXdjQ', 'id': 'LV', 'snippet': {'gl': 'LV', 'name': 'Latvia'}}, {'kind': 'youtube#i18nRegion', 'etag': '8bF8vMWHAN6sQLOLhHMba9HAI-U', 'id': 'MK', 'snippet': {'gl': 'MK', 'name': 'North Macedonia'}}, {'kind': 'youtube#i18nRegion', 'etag': 'wbqE0kVZMXC7iw3QQInQ0txhOyk', 'id': 'MY', 'snippet': {'gl': 'MY', 'name': 'Malaysia'}}, {'kind': 'youtube#i18nRegion', 'etag': 'H-ICMUzBlm9A6jyjIlU4FZOPjBo', 'id': 'NO', 'snippet': {'gl': 'NO', 'name': 'Norway'}}, {'kind': 'youtube#i18nRegion', 'etag': 'fw0LSJ5gH4uTuaUhkRC8lbF8cP8', 'id': 'NP', 'snippet': {'gl': 'NP', 'name': 'Nepal'}}, {'kind': 'youtube#i18nRegion', 'etag': 'bHtjw58wQkD0dBKECtEZHtBWa-8', 'id': 'NL', 'snippet': {'gl': 'NL', 'name': 'Netherlands'}}, {'kind': 'youtube#i18nRegion', 'etag': '-QYyMKnkVYZWpPbpDC6pDcZgpw4', 'id': 'PL', 'snippet': {'gl': 'PL', 'name': 'Poland'}}, {'kind': 'youtube#i18nRegion', 'etag': '98SQpWEhy4zT_QqYYY_dZH1I314', 'id': 'BR', 'snippet': {'gl': 'BR', 'name': 'Brazil'}}, {'kind': 'youtube#i18nRegion', 'etag': '5zFnnd2x9CFS0wWZR3l4qTRcIlQ', 'id': 'PT', 'snippet': {'gl': 'PT', 'name': 'Portugal'}}, {'kind': 'youtube#i18nRegion', 'etag': 'yB6FXq0ccY5Visxfusb8vVdNc10', 'id': 'RO', 'snippet': {'gl': 'RO', 'name': 'Romania'}}, {'kind': 'youtube#i18nRegion', 'etag': '9GE4FbrRaiCd-8kFAw8MHI-WT1s', 'id': 'RU', 'snippet': {'gl': 'RU', 'name': 'Russia'}}, {'kind': 'youtube#i18nRegion', 'etag': 'PpGtQaBUyRankHCBjWmy1NnEjfM', 'id': 'LK', 'snippet': {'gl': 'LK', 'name': 'Sri Lanka'}}, {'kind': 'youtube#i18nRegion', 'etag': 'TWFLT1MyoA7a-715PY0Lw04YQcY', 'id': 'SK', 'snippet': {'gl': 'SK', 'name': 'Slovakia'}}, {'kind': 'youtube#i18nRegion', 'etag': 'yeevtKu1gd3O7b5M-vGTnQOT6lk', 'id': 'SI', 'snippet': {'gl': 'SI', 'name': 'Slovenia'}}, {'kind': 'youtube#i18nRegion', 'etag': '9wp9OUaxvx3q_SMzenOm8_lYcag', 'id': 'ME', 'snippet': {'gl': 'ME', 'name': 'Montenegro'}}, {'kind': 'youtube#i18nRegion', 'etag': 'SMB1YYpNmvFYP4BvBo6SgTkfNRk', 'id': 'RS', 'snippet': {'gl': 'RS', 'name': 'Serbia'}}, {'kind': 'youtube#i18nRegion', 'etag': 'MNaSXLozS_1cF-DU9kP2aSup8O4', 'id': 'SE', 'snippet': {'gl': 'SE', 'name': 'Sweden'}}, {'kind': 'youtube#i18nRegion', 'etag': 'Fk10E8RdlFzlMfRjIUsCAGgQmjo', 'id': 'TZ', 'snippet': {'gl': 'TZ', 'name': 'Tanzania'}}, {'kind': 'youtube#i18nRegion', 'etag': 'UC8Ob-uZrpWd5pYLI2dkeTUbzDM', 'id': 'TH', 'snippet': {'gl': 'TH', 'name': 'Thailand'}}, {'kind': 'youtube#i18nRegion', 'etag': 'Uk7uOVIHE_DePmjGp6oM22WkIdg', 'id': 'TR', 'snippet': {'gl': 'TR', 'name': 'Turkey'}}, {'kind': 'youtube#i18nRegion', 'etag': 'pvK7R7XzK5FQSzleOdogJK_buM4', 'id': 'UA', 'snippet': {'gl': 'UA', 'name': 'Ukraine'}}, {'kind': 'youtube#i18nRegion', 'etag': 'nGMBfRk73c-GSy0E_SW3958TI9Q', 'id': 'PK', 'snippet': {'gl': 'PK', 'name': 'Pakistan'}}, {'kind': 'youtube#i18nRegion', 'etag': 'DwCDRXPVM_fBf_sBN7LfAIN4Sw8', 'id': 'VN', 'snippet': {'gl': 'VN', 'name': 'Vietnam'}}, {'kind': 'youtube#i18nRegion', 'etag': 'dPGz2QsPehBqvPiSigL1Dbg92vs', 'id': 'HK', 'snippet': {'gl': 'HK', 'name': 'Hong Kong'}}, {'kind': 'youtube#i18nRegion', 'etag': 'i_HaeX1-HlrzaraiFMuZ0v1jK6I', 'id': 'TW', 'snippet': {'gl': 'TW', 'name': 'Taiwan'}}, {'kind': 'youtube#i18nRegion', 'etag': '5NRN7m5pe3d6ZuYaiDH6R9uxT5Q', 'id': 'CY', 'snippet': {'gl': 'CY', 'name': 'Cyprus'}}, {'kind': 'youtube#i18nRegion', 'etag': 'Orpft37mcSP_s7d6CblimlfOpz4', 'id': 'KH', 'snippet': {'gl': 'KH', 'name': 'Cambodia'}}, {'kind': 'youtube#i18nRegion', 'etag': 'NYagMJD4QYvJvpRC4TmOGua8o6I', 'id': 'LI', 'snippet': {'gl': 'LI', 'name': 'Liechtenstein'}}, {'kind': 'youtube#i18nRegion', 'etag': 'BCZ7Foi7rvZOokmriPgGdd3nz6s', 'id': 'PG', 'snippet': {'gl': 'PG', 'name': 'Papua New Guinea'}}]\n"
     ]
    }
   ],
   "source": [
    "# Find the region code for Korea, Japan, USA\n",
    "request = youtube.i18nRegions().list(\n",
    "        part=\"snippet\",\n",
    "        hl=\"en_US\"\n",
    "    )\n",
    "response = request.execute()\n",
    "print(response['items'])"
   ]
  },
  {
   "cell_type": "code",
   "execution_count": 41,
   "id": "02b74aeb-90aa-4280-a4ad-f666411b2e37",
   "metadata": {},
   "outputs": [],
   "source": [
    "def get_video_stats(youtube, country, page_token=None):\n",
    "    stats = {\n",
    "        'snippet': ['channelId', 'channelTitle', 'title', 'publishedAt', 'description', 'thumbnails', 'tags'],\n",
    "        'contentDetails': ['duration'],\n",
    "        'statistics': ['viewCount', 'likeCount', 'commentCount']\n",
    "    }\n",
    "\n",
    "    request = youtube.videos().list(\n",
    "        part=\"snippet,contentDetails,statistics\",\n",
    "        chart=\"mostPopular\",\n",
    "        maxResults=50,\n",
    "        regionCode=country,\n",
    "        pageToken=page_token\n",
    "    )\n",
    "\n",
    "    response = request.execute()\n",
    "    all_video_stat = []\n",
    "\n",
    "    for video in response['items']:\n",
    "        video_stat = {\n",
    "            'region': country,\n",
    "            'video_id': video['id']\n",
    "        }\n",
    "\n",
    "        for i in stats.keys():\n",
    "            for k in stats[i]:\n",
    "                try:\n",
    "                    video_stat[k] = video[i][k]\n",
    "                except:\n",
    "                    video_stat[k] = None\n",
    "\n",
    "        all_video_stat.append(video_stat)\n",
    "\n",
    "    return all_video_stat, response.get('nextPageToken')\n",
    "\n",
    "def get_trending_video(youtube, regions):\n",
    "    all_video_stat = []\n",
    "\n",
    "    for country in regions:\n",
    "        video_stats, next_page_token = get_video_stats(youtube, country)\n",
    "\n",
    "        while next_page_token:\n",
    "            video_stats, next_page_token = get_video_stats(youtube, country, next_page_token)\n",
    "\n",
    "        all_video_stat.extend(video_stats)\n",
    "\n",
    "    return pd.DataFrame(all_video_stat)\n"
   ]
  },
  {
   "cell_type": "code",
   "execution_count": 42,
   "id": "ac76d95e-8b33-4279-9f6d-c6dd6c7379bf",
   "metadata": {},
   "outputs": [],
   "source": [
    "trending_vid = get_trending_video(youtube, regions)"
   ]
  },
  {
   "cell_type": "code",
   "execution_count": 43,
   "id": "9ba54f23-f9aa-4338-85c0-7bc51c388024",
   "metadata": {},
   "outputs": [
    {
     "data": {
      "text/html": [
       "<div>\n",
       "<style scoped>\n",
       "    .dataframe tbody tr th:only-of-type {\n",
       "        vertical-align: middle;\n",
       "    }\n",
       "\n",
       "    .dataframe tbody tr th {\n",
       "        vertical-align: top;\n",
       "    }\n",
       "\n",
       "    .dataframe thead th {\n",
       "        text-align: right;\n",
       "    }\n",
       "</style>\n",
       "<table border=\"1\" class=\"dataframe\">\n",
       "  <thead>\n",
       "    <tr style=\"text-align: right;\">\n",
       "      <th></th>\n",
       "      <th>region</th>\n",
       "      <th>video_id</th>\n",
       "      <th>channelId</th>\n",
       "      <th>channelTitle</th>\n",
       "      <th>title</th>\n",
       "      <th>publishedAt</th>\n",
       "      <th>description</th>\n",
       "      <th>thumbnails</th>\n",
       "      <th>tags</th>\n",
       "      <th>duration</th>\n",
       "      <th>viewCount</th>\n",
       "      <th>likeCount</th>\n",
       "      <th>commentCount</th>\n",
       "    </tr>\n",
       "  </thead>\n",
       "  <tbody>\n",
       "    <tr>\n",
       "      <th>0</th>\n",
       "      <td>KR</td>\n",
       "      <td>3NxJrDjSBw4</td>\n",
       "      <td>UCOszRhGW_mW8yPYKhLuULMw</td>\n",
       "      <td>푸먹_foomuk</td>\n",
       "      <td>무뚝뚝한 집안의 아기! / Baby from an expressionless fam...</td>\n",
       "      <td>2023-11-25T06:30:14Z</td>\n",
       "      <td>오늘은 로기가 태어나던 시절의 이야기입니다.\\n그럼 오늘도 재밌게 봐주세요~ q(≧...</td>\n",
       "      <td>{'default': {'url': 'https://i.ytimg.com/vi/3N...</td>\n",
       "      <td>[애니메이션먹방, ani mukbang, animation mukbang, asmr...</td>\n",
       "      <td>PT3M43S</td>\n",
       "      <td>1645852</td>\n",
       "      <td>24642</td>\n",
       "      <td>663</td>\n",
       "    </tr>\n",
       "    <tr>\n",
       "      <th>1</th>\n",
       "      <td>KR</td>\n",
       "      <td>j1BrwfiwLgI</td>\n",
       "      <td>UCK1sVuXaDvJeNwl9noN5nOA</td>\n",
       "      <td>KBS Entertain</td>\n",
       "      <td>박진영 (Park Jin young) sweet dreams 외 3개  - 축하공연...</td>\n",
       "      <td>2023-11-24T14:23:35Z</td>\n",
       "      <td>박진영 (Park Jin young) sweet dreams+when we disc...</td>\n",
       "      <td>{'default': {'url': 'https://i.ytimg.com/vi/j1...</td>\n",
       "      <td>[청룡영화상, 청룡영화제, 청룡, 시상식, 영화제, 남우주연상, 여우주연상, 김혜수...</td>\n",
       "      <td>PT5M16S</td>\n",
       "      <td>3001829</td>\n",
       "      <td>37563</td>\n",
       "      <td>10939</td>\n",
       "    </tr>\n",
       "    <tr>\n",
       "      <th>2</th>\n",
       "      <td>KR</td>\n",
       "      <td>yMUsVYIwwYE</td>\n",
       "      <td>UCLqecwv-NjFSJ4gNwUunhTA</td>\n",
       "      <td>MBN Drama</td>\n",
       "      <td>[엠P!CK] 드디어 모든 진실이 밝혀지고, 끝까지 발악하다 집에서 쫓겨나는 이정혜...</td>\n",
       "      <td>2023-11-27T05:36:06Z</td>\n",
       "      <td>MBN 주말 미니시리즈 ＜완벽한 결혼의 정석＞ l 회귀 로맨스 복수극\\n\\n☞ MB...</td>\n",
       "      <td>{'default': {'url': 'https://i.ytimg.com/vi/yM...</td>\n",
       "      <td>[주말 미니시리즈, 성훈, 진지희, 정유민, 강신효, 이민영, 전노민, 이미숙, 김...</td>\n",
       "      <td>PT11M47S</td>\n",
       "      <td>692607</td>\n",
       "      <td>4502</td>\n",
       "      <td>81</td>\n",
       "    </tr>\n",
       "    <tr>\n",
       "      <th>3</th>\n",
       "      <td>KR</td>\n",
       "      <td>fJRjCdd1nSs</td>\n",
       "      <td>UC9cCBxBAQW2CzLYeT20q49A</td>\n",
       "      <td>지식해적단</td>\n",
       "      <td>💀 이스라엘은 왜 헤즈볼라를 무서워할까? / 💀 헤즈볼라는 누구인가</td>\n",
       "      <td>2023-11-25T03:15:09Z</td>\n",
       "      <td>🏴‍☠️지식해적단 멤버십 가입\\nhttps://www.youtube.com/chan...</td>\n",
       "      <td>{'default': {'url': 'https://i.ytimg.com/vi/fJ...</td>\n",
       "      <td>[지식채널, 지식채널e, 역사채널, 중동문제, 팔레스타인, 아라파트, 팔랑헤, 마론...</td>\n",
       "      <td>PT19M55S</td>\n",
       "      <td>347886</td>\n",
       "      <td>5368</td>\n",
       "      <td>620</td>\n",
       "    </tr>\n",
       "    <tr>\n",
       "      <th>4</th>\n",
       "      <td>KR</td>\n",
       "      <td>X8QLyVf7cgM</td>\n",
       "      <td>UCX3jMYyi3smD-ltueIQMawA</td>\n",
       "      <td>산골여행</td>\n",
       "      <td>겨울에 더 맛있고 잘자라는 12월에 심어도 대박나는 8가지 작물 김장채소 뽑은자리에...</td>\n",
       "      <td>2023-11-24T08:55:59Z</td>\n",
       "      <td></td>\n",
       "      <td>{'default': {'url': 'https://i.ytimg.com/vi/X8...</td>\n",
       "      <td>[km_20231123_1080p_30f_20231124_171322]</td>\n",
       "      <td>PT23M56S</td>\n",
       "      <td>563153</td>\n",
       "      <td>8129</td>\n",
       "      <td>145</td>\n",
       "    </tr>\n",
       "  </tbody>\n",
       "</table>\n",
       "</div>"
      ],
      "text/plain": [
       "  region     video_id                 channelId   channelTitle   \n",
       "0     KR  3NxJrDjSBw4  UCOszRhGW_mW8yPYKhLuULMw      푸먹_foomuk  \\\n",
       "1     KR  j1BrwfiwLgI  UCK1sVuXaDvJeNwl9noN5nOA  KBS Entertain   \n",
       "2     KR  yMUsVYIwwYE  UCLqecwv-NjFSJ4gNwUunhTA      MBN Drama   \n",
       "3     KR  fJRjCdd1nSs  UC9cCBxBAQW2CzLYeT20q49A          지식해적단   \n",
       "4     KR  X8QLyVf7cgM  UCX3jMYyi3smD-ltueIQMawA           산골여행   \n",
       "\n",
       "                                               title           publishedAt   \n",
       "0  무뚝뚝한 집안의 아기! / Baby from an expressionless fam...  2023-11-25T06:30:14Z  \\\n",
       "1  박진영 (Park Jin young) sweet dreams 외 3개  - 축하공연...  2023-11-24T14:23:35Z   \n",
       "2  [엠P!CK] 드디어 모든 진실이 밝혀지고, 끝까지 발악하다 집에서 쫓겨나는 이정혜...  2023-11-27T05:36:06Z   \n",
       "3              💀 이스라엘은 왜 헤즈볼라를 무서워할까? / 💀 헤즈볼라는 누구인가  2023-11-25T03:15:09Z   \n",
       "4  겨울에 더 맛있고 잘자라는 12월에 심어도 대박나는 8가지 작물 김장채소 뽑은자리에...  2023-11-24T08:55:59Z   \n",
       "\n",
       "                                         description   \n",
       "0  오늘은 로기가 태어나던 시절의 이야기입니다.\\n그럼 오늘도 재밌게 봐주세요~ q(≧...  \\\n",
       "1  박진영 (Park Jin young) sweet dreams+when we disc...   \n",
       "2  MBN 주말 미니시리즈 ＜완벽한 결혼의 정석＞ l 회귀 로맨스 복수극\\n\\n☞ MB...   \n",
       "3  🏴‍☠️지식해적단 멤버십 가입\\nhttps://www.youtube.com/chan...   \n",
       "4                                                      \n",
       "\n",
       "                                          thumbnails   \n",
       "0  {'default': {'url': 'https://i.ytimg.com/vi/3N...  \\\n",
       "1  {'default': {'url': 'https://i.ytimg.com/vi/j1...   \n",
       "2  {'default': {'url': 'https://i.ytimg.com/vi/yM...   \n",
       "3  {'default': {'url': 'https://i.ytimg.com/vi/fJ...   \n",
       "4  {'default': {'url': 'https://i.ytimg.com/vi/X8...   \n",
       "\n",
       "                                                tags  duration viewCount   \n",
       "0  [애니메이션먹방, ani mukbang, animation mukbang, asmr...   PT3M43S   1645852  \\\n",
       "1  [청룡영화상, 청룡영화제, 청룡, 시상식, 영화제, 남우주연상, 여우주연상, 김혜수...   PT5M16S   3001829   \n",
       "2  [주말 미니시리즈, 성훈, 진지희, 정유민, 강신효, 이민영, 전노민, 이미숙, 김...  PT11M47S    692607   \n",
       "3  [지식채널, 지식채널e, 역사채널, 중동문제, 팔레스타인, 아라파트, 팔랑헤, 마론...  PT19M55S    347886   \n",
       "4            [km_20231123_1080p_30f_20231124_171322]  PT23M56S    563153   \n",
       "\n",
       "  likeCount commentCount  \n",
       "0     24642          663  \n",
       "1     37563        10939  \n",
       "2      4502           81  \n",
       "3      5368          620  \n",
       "4      8129          145  "
      ]
     },
     "execution_count": 43,
     "metadata": {},
     "output_type": "execute_result"
    }
   ],
   "source": [
    "trending_vid.head()"
   ]
  },
  {
   "cell_type": "code",
   "execution_count": 44,
   "id": "0f9ad392-c086-4f5d-92b3-02560b2d0654",
   "metadata": {},
   "outputs": [
    {
     "data": {
      "text/plain": [
       "Index(['region', 'video_id', 'channelId', 'channelTitle', 'title',\n",
       "       'publishedAt', 'description', 'thumbnails', 'tags', 'duration',\n",
       "       'viewCount', 'likeCount', 'commentCount'],\n",
       "      dtype='object')"
      ]
     },
     "execution_count": 44,
     "metadata": {},
     "output_type": "execute_result"
    }
   ],
   "source": [
    "trending_vid.columns"
   ]
  },
  {
   "cell_type": "markdown",
   "id": "a7af3915-facc-494e-a8b0-6c0a66b47436",
   "metadata": {},
   "source": [
    "### Change column names"
   ]
  },
  {
   "cell_type": "code",
   "execution_count": 45,
   "id": "771b69cf-41d2-4a25-baee-7eb8972de195",
   "metadata": {},
   "outputs": [],
   "source": [
    "columns = {'channelId':'channel_id','channelTitle':'channel_name','publishedAt':'upload_date','viewCount':'view','likeCount':'like','commentCount':'comment'}\n",
    "trending_vid = trending_vid.rename(columns = columns)"
   ]
  },
  {
   "cell_type": "markdown",
   "id": "501ab557-f1b4-42ac-ac45-656b230c274f",
   "metadata": {},
   "source": [
    "### Check for null, empty values"
   ]
  },
  {
   "cell_type": "markdown",
   "id": "b553c6e3-b9cd-4265-8811-6218f5a59696",
   "metadata": {},
   "source": [
    "Tags, like, comment are the columns with null values. Nothing has to be done for null, empty values."
   ]
  },
  {
   "cell_type": "code",
   "execution_count": 46,
   "id": "a001454f-dcd5-444f-bac3-b8491afe1500",
   "metadata": {},
   "outputs": [
    {
     "data": {
      "text/plain": [
       "region           0\n",
       "video_id         0\n",
       "channel_id       0\n",
       "channel_name     0\n",
       "title            0\n",
       "upload_date      0\n",
       "description      0\n",
       "thumbnails       0\n",
       "tags            24\n",
       "duration         0\n",
       "view             0\n",
       "like             1\n",
       "comment          2\n",
       "dtype: int64"
      ]
     },
     "execution_count": 46,
     "metadata": {},
     "output_type": "execute_result"
    }
   ],
   "source": [
    "trending_vid.isnull().sum()"
   ]
  },
  {
   "cell_type": "markdown",
   "id": "4523eadf-8628-4bbc-a3ce-8f1b6b6add62",
   "metadata": {},
   "source": [
    "### Reformat values and change data types"
   ]
  },
  {
   "cell_type": "markdown",
   "id": "2afdaf06-edda-44f1-a845-2e950b5b5874",
   "metadata": {},
   "source": [
    "Change duration, upload_date format to datetime format"
   ]
  },
  {
   "cell_type": "code",
   "execution_count": 47,
   "id": "234827e3-bddc-4fbd-8135-19396d13c40b",
   "metadata": {},
   "outputs": [],
   "source": [
    "# Change upload_date column to datetime object\n",
    "trending_vid['upload_date'] = pd.to_datetime(trending_vid['upload_date']).dt.tz_convert(None)\n",
    "\n",
    "# Convert duration (isodate format) to datetime format\n",
    "import isodate\n",
    "trending_vid['duration'] =  trending_vid['duration'].apply(lambda x: isodate.parse_duration(x))\n",
    "\n",
    "# Change columns with number values to int type\n",
    "trending_vid[['view','like','comment']] = trending_vid[['view','like','comment']].apply(pd.to_numeric)\n",
    "\n",
    "# Change description, and title to string type\n",
    "trending_vid['description'] = trending_vid['description'].astype(str)\n",
    "trending_vid['title'] = trending_vid['title'].astype(str)"
   ]
  },
  {
   "cell_type": "code",
   "execution_count": 48,
   "id": "b6ef759d-99ab-4544-9f61-9ca92c305d9a",
   "metadata": {
    "tags": []
   },
   "outputs": [
    {
     "data": {
      "text/html": [
       "<div>\n",
       "<style scoped>\n",
       "    .dataframe tbody tr th:only-of-type {\n",
       "        vertical-align: middle;\n",
       "    }\n",
       "\n",
       "    .dataframe tbody tr th {\n",
       "        vertical-align: top;\n",
       "    }\n",
       "\n",
       "    .dataframe thead th {\n",
       "        text-align: right;\n",
       "    }\n",
       "</style>\n",
       "<table border=\"1\" class=\"dataframe\">\n",
       "  <thead>\n",
       "    <tr style=\"text-align: right;\">\n",
       "      <th></th>\n",
       "      <th>region</th>\n",
       "      <th>video_id</th>\n",
       "      <th>channel_id</th>\n",
       "      <th>channel_name</th>\n",
       "      <th>title</th>\n",
       "      <th>upload_date</th>\n",
       "      <th>description</th>\n",
       "      <th>thumbnails</th>\n",
       "      <th>tags</th>\n",
       "      <th>duration</th>\n",
       "      <th>view</th>\n",
       "      <th>like</th>\n",
       "      <th>comment</th>\n",
       "    </tr>\n",
       "  </thead>\n",
       "  <tbody>\n",
       "    <tr>\n",
       "      <th>0</th>\n",
       "      <td>KR</td>\n",
       "      <td>3NxJrDjSBw4</td>\n",
       "      <td>UCOszRhGW_mW8yPYKhLuULMw</td>\n",
       "      <td>푸먹_foomuk</td>\n",
       "      <td>무뚝뚝한 집안의 아기! / Baby from an expressionless fam...</td>\n",
       "      <td>2023-11-25 06:30:14</td>\n",
       "      <td>오늘은 로기가 태어나던 시절의 이야기입니다.\\n그럼 오늘도 재밌게 봐주세요~ q(≧...</td>\n",
       "      <td>{'default': {'url': 'https://i.ytimg.com/vi/3N...</td>\n",
       "      <td>[애니메이션먹방, ani mukbang, animation mukbang, asmr...</td>\n",
       "      <td>0 days 00:03:43</td>\n",
       "      <td>1645852</td>\n",
       "      <td>24642.0</td>\n",
       "      <td>663.0</td>\n",
       "    </tr>\n",
       "    <tr>\n",
       "      <th>1</th>\n",
       "      <td>KR</td>\n",
       "      <td>j1BrwfiwLgI</td>\n",
       "      <td>UCK1sVuXaDvJeNwl9noN5nOA</td>\n",
       "      <td>KBS Entertain</td>\n",
       "      <td>박진영 (Park Jin young) sweet dreams 외 3개  - 축하공연...</td>\n",
       "      <td>2023-11-24 14:23:35</td>\n",
       "      <td>박진영 (Park Jin young) sweet dreams+when we disc...</td>\n",
       "      <td>{'default': {'url': 'https://i.ytimg.com/vi/j1...</td>\n",
       "      <td>[청룡영화상, 청룡영화제, 청룡, 시상식, 영화제, 남우주연상, 여우주연상, 김혜수...</td>\n",
       "      <td>0 days 00:05:16</td>\n",
       "      <td>3001829</td>\n",
       "      <td>37563.0</td>\n",
       "      <td>10939.0</td>\n",
       "    </tr>\n",
       "    <tr>\n",
       "      <th>2</th>\n",
       "      <td>KR</td>\n",
       "      <td>yMUsVYIwwYE</td>\n",
       "      <td>UCLqecwv-NjFSJ4gNwUunhTA</td>\n",
       "      <td>MBN Drama</td>\n",
       "      <td>[엠P!CK] 드디어 모든 진실이 밝혀지고, 끝까지 발악하다 집에서 쫓겨나는 이정혜...</td>\n",
       "      <td>2023-11-27 05:36:06</td>\n",
       "      <td>MBN 주말 미니시리즈 ＜완벽한 결혼의 정석＞ l 회귀 로맨스 복수극\\n\\n☞ MB...</td>\n",
       "      <td>{'default': {'url': 'https://i.ytimg.com/vi/yM...</td>\n",
       "      <td>[주말 미니시리즈, 성훈, 진지희, 정유민, 강신효, 이민영, 전노민, 이미숙, 김...</td>\n",
       "      <td>0 days 00:11:47</td>\n",
       "      <td>692607</td>\n",
       "      <td>4502.0</td>\n",
       "      <td>81.0</td>\n",
       "    </tr>\n",
       "    <tr>\n",
       "      <th>3</th>\n",
       "      <td>KR</td>\n",
       "      <td>fJRjCdd1nSs</td>\n",
       "      <td>UC9cCBxBAQW2CzLYeT20q49A</td>\n",
       "      <td>지식해적단</td>\n",
       "      <td>💀 이스라엘은 왜 헤즈볼라를 무서워할까? / 💀 헤즈볼라는 누구인가</td>\n",
       "      <td>2023-11-25 03:15:09</td>\n",
       "      <td>🏴‍☠️지식해적단 멤버십 가입\\nhttps://www.youtube.com/chan...</td>\n",
       "      <td>{'default': {'url': 'https://i.ytimg.com/vi/fJ...</td>\n",
       "      <td>[지식채널, 지식채널e, 역사채널, 중동문제, 팔레스타인, 아라파트, 팔랑헤, 마론...</td>\n",
       "      <td>0 days 00:19:55</td>\n",
       "      <td>347886</td>\n",
       "      <td>5368.0</td>\n",
       "      <td>620.0</td>\n",
       "    </tr>\n",
       "    <tr>\n",
       "      <th>4</th>\n",
       "      <td>KR</td>\n",
       "      <td>X8QLyVf7cgM</td>\n",
       "      <td>UCX3jMYyi3smD-ltueIQMawA</td>\n",
       "      <td>산골여행</td>\n",
       "      <td>겨울에 더 맛있고 잘자라는 12월에 심어도 대박나는 8가지 작물 김장채소 뽑은자리에...</td>\n",
       "      <td>2023-11-24 08:55:59</td>\n",
       "      <td></td>\n",
       "      <td>{'default': {'url': 'https://i.ytimg.com/vi/X8...</td>\n",
       "      <td>[km_20231123_1080p_30f_20231124_171322]</td>\n",
       "      <td>0 days 00:23:56</td>\n",
       "      <td>563153</td>\n",
       "      <td>8129.0</td>\n",
       "      <td>145.0</td>\n",
       "    </tr>\n",
       "  </tbody>\n",
       "</table>\n",
       "</div>"
      ],
      "text/plain": [
       "  region     video_id                channel_id   channel_name   \n",
       "0     KR  3NxJrDjSBw4  UCOszRhGW_mW8yPYKhLuULMw      푸먹_foomuk  \\\n",
       "1     KR  j1BrwfiwLgI  UCK1sVuXaDvJeNwl9noN5nOA  KBS Entertain   \n",
       "2     KR  yMUsVYIwwYE  UCLqecwv-NjFSJ4gNwUunhTA      MBN Drama   \n",
       "3     KR  fJRjCdd1nSs  UC9cCBxBAQW2CzLYeT20q49A          지식해적단   \n",
       "4     KR  X8QLyVf7cgM  UCX3jMYyi3smD-ltueIQMawA           산골여행   \n",
       "\n",
       "                                               title         upload_date   \n",
       "0  무뚝뚝한 집안의 아기! / Baby from an expressionless fam... 2023-11-25 06:30:14  \\\n",
       "1  박진영 (Park Jin young) sweet dreams 외 3개  - 축하공연... 2023-11-24 14:23:35   \n",
       "2  [엠P!CK] 드디어 모든 진실이 밝혀지고, 끝까지 발악하다 집에서 쫓겨나는 이정혜... 2023-11-27 05:36:06   \n",
       "3              💀 이스라엘은 왜 헤즈볼라를 무서워할까? / 💀 헤즈볼라는 누구인가 2023-11-25 03:15:09   \n",
       "4  겨울에 더 맛있고 잘자라는 12월에 심어도 대박나는 8가지 작물 김장채소 뽑은자리에... 2023-11-24 08:55:59   \n",
       "\n",
       "                                         description   \n",
       "0  오늘은 로기가 태어나던 시절의 이야기입니다.\\n그럼 오늘도 재밌게 봐주세요~ q(≧...  \\\n",
       "1  박진영 (Park Jin young) sweet dreams+when we disc...   \n",
       "2  MBN 주말 미니시리즈 ＜완벽한 결혼의 정석＞ l 회귀 로맨스 복수극\\n\\n☞ MB...   \n",
       "3  🏴‍☠️지식해적단 멤버십 가입\\nhttps://www.youtube.com/chan...   \n",
       "4                                                      \n",
       "\n",
       "                                          thumbnails   \n",
       "0  {'default': {'url': 'https://i.ytimg.com/vi/3N...  \\\n",
       "1  {'default': {'url': 'https://i.ytimg.com/vi/j1...   \n",
       "2  {'default': {'url': 'https://i.ytimg.com/vi/yM...   \n",
       "3  {'default': {'url': 'https://i.ytimg.com/vi/fJ...   \n",
       "4  {'default': {'url': 'https://i.ytimg.com/vi/X8...   \n",
       "\n",
       "                                                tags        duration     view   \n",
       "0  [애니메이션먹방, ani mukbang, animation mukbang, asmr... 0 days 00:03:43  1645852  \\\n",
       "1  [청룡영화상, 청룡영화제, 청룡, 시상식, 영화제, 남우주연상, 여우주연상, 김혜수... 0 days 00:05:16  3001829   \n",
       "2  [주말 미니시리즈, 성훈, 진지희, 정유민, 강신효, 이민영, 전노민, 이미숙, 김... 0 days 00:11:47   692607   \n",
       "3  [지식채널, 지식채널e, 역사채널, 중동문제, 팔레스타인, 아라파트, 팔랑헤, 마론... 0 days 00:19:55   347886   \n",
       "4            [km_20231123_1080p_30f_20231124_171322] 0 days 00:23:56   563153   \n",
       "\n",
       "      like  comment  \n",
       "0  24642.0    663.0  \n",
       "1  37563.0  10939.0  \n",
       "2   4502.0     81.0  \n",
       "3   5368.0    620.0  \n",
       "4   8129.0    145.0  "
      ]
     },
     "execution_count": 48,
     "metadata": {},
     "output_type": "execute_result"
    }
   ],
   "source": [
    "trending_vid.head()"
   ]
  },
  {
   "cell_type": "markdown",
   "id": "650dda7b-9d48-4192-80ce-f7f07af4f257",
   "metadata": {},
   "source": [
    "### Engineer new features"
   ]
  },
  {
   "cell_type": "markdown",
   "id": "de253aa4-1b01-4db0-a589-99548a559f6c",
   "metadata": {},
   "source": [
    "Get thumbnail image url and week number"
   ]
  },
  {
   "cell_type": "code",
   "execution_count": 49,
   "id": "db3c7621-5bc2-4d8b-b11e-41952f8a43fa",
   "metadata": {},
   "outputs": [],
   "source": [
    "# Get medium quality image url from each thumbnails column \n",
    "trending_vid['thumbnail_url'] = trending_vid['thumbnails'].apply(lambda x: x['medium']['url'])\n",
    "\n",
    "# Drop original thumbnails column\n",
    "trending_vid = trending_vid.drop('thumbnails', axis=1)"
   ]
  },
  {
   "cell_type": "code",
   "execution_count": 50,
   "id": "473bc5ab-7887-4de2-80be-bf3d2e835419",
   "metadata": {},
   "outputs": [],
   "source": [
    "# Get current year, week info and save it in column year, and week\n",
    "trending_vid['year'] = datetime.datetime.today().year\n",
    "trending_vid['week'] = 'W'+str(datetime.datetime.today().isocalendar()[1])"
   ]
  },
  {
   "cell_type": "markdown",
   "id": "4ac2204a-34a8-47e0-b908-3905173997f5",
   "metadata": {},
   "source": [
    "Create a `rank` column that contains the video's rank from the trending chart for each region"
   ]
  },
  {
   "cell_type": "code",
   "execution_count": 51,
   "id": "30d2124c-a6b7-4d8a-b48a-7dedcd478962",
   "metadata": {},
   "outputs": [],
   "source": [
    "# Get rank value by using the index number\n",
    "trending_vid = trending_vid.reset_index()\n",
    "trending_vid['rank'] = trending_vid.groupby('region')['index'].rank(method='dense').astype(int)\n",
    "trending_vid = trending_vid.drop('index', axis=1)"
   ]
  },
  {
   "cell_type": "markdown",
   "id": "b01096cb-b5e8-43c3-9b67-77b9ccab08f5",
   "metadata": {},
   "source": [
    "### Save cleaned data to spreadsheet (weekly)"
   ]
  },
  {
   "cell_type": "code",
   "execution_count": 52,
   "id": "6639cc8f-a9c2-4f3d-aa28-11f6d7a88c8c",
   "metadata": {},
   "outputs": [],
   "source": [
    "# Combine original dataframe with updated data\n",
    "final_df = pd.concat([trend_df, trending_vid])\n",
    "\n",
    "# Save the combined dataframe to google sheet\n",
    "wks_trend_data = sh1.worksheet_by_title('yt_trend_weekly')\n",
    "wks_trend_data.clear('A1','AZ')\n",
    "wks_trend_data.set_dataframe(final_df, 'A1', index=False)"
   ]
  }
 ],
 "metadata": {
  "kernelspec": {
   "display_name": "Python 3 (ipykernel)",
   "language": "python",
   "name": "python3"
  },
  "language_info": {
   "codemirror_mode": {
    "name": "ipython",
    "version": 3
   },
   "file_extension": ".py",
   "mimetype": "text/x-python",
   "name": "python",
   "nbconvert_exporter": "python",
   "pygments_lexer": "ipython3",
   "version": "3.10.9"
  }
 },
 "nbformat": 4,
 "nbformat_minor": 5
}
